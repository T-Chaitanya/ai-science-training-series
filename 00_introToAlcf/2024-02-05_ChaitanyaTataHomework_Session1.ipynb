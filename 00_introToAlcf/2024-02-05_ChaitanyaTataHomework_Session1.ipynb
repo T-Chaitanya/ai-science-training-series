{
 "cells": [
  {
   "cell_type": "markdown",
   "id": "75c15f4b-0967-4a76-969f-8b016cd6bfa2",
   "metadata": {},
   "source": [
    "# Here is my Homework"
   ]
  },
  {
   "cell_type": "code",
   "execution_count": 2,
   "id": "aa7d6bbe-4a72-4ac7-9f66-3a59c509b828",
   "metadata": {},
   "outputs": [
    {
     "name": "stdout",
     "output_type": "stream",
     "text": [
      "testing...\n"
     ]
    }
   ],
   "source": [
    "import os,sys\n",
    "print(\"testing...\")"
   ]
  },
  {
   "cell_type": "code",
   "execution_count": null,
   "id": "04038604-03b7-4cd2-b847-f02260426b14",
   "metadata": {},
   "outputs": [],
   "source": []
  }
 ],
 "metadata": {
  "kernelspec": {
   "display_name": "Python 3 (ipykernel)",
   "language": "python",
   "name": "python3"
  },
  "language_info": {
   "codemirror_mode": {
    "name": "ipython",
    "version": 3
   },
   "file_extension": ".py",
   "mimetype": "text/x-python",
   "name": "python",
   "nbconvert_exporter": "python",
   "pygments_lexer": "ipython3",
   "version": "3.9.15"
  }
 },
 "nbformat": 4,
 "nbformat_minor": 5
}
